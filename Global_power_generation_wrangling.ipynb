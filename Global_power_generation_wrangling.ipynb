{
 "cells": [
  {
   "cell_type": "code",
   "execution_count": 1,
   "metadata": {},
   "outputs": [],
   "source": [
    "## Importing Libraries\n",
    "import pandas as pd\n",
    "import numpy as np\n",
    "import zipfile"
   ]
  },
  {
   "cell_type": "code",
   "execution_count": 2,
   "metadata": {},
   "outputs": [],
   "source": [
    "with zipfile.ZipFile(r'C:\\Udacity\\Udacity_term2_projects\\Tableau_files\\globalpowerplantdatabasev110.zip','r') as power_plant:\n",
    "    power_plant.extractall()"
   ]
  },
  {
   "cell_type": "code",
   "execution_count": 3,
   "metadata": {},
   "outputs": [
    {
     "data": {
      "text/html": [
       "<div>\n",
       "<style scoped>\n",
       "    .dataframe tbody tr th:only-of-type {\n",
       "        vertical-align: middle;\n",
       "    }\n",
       "\n",
       "    .dataframe tbody tr th {\n",
       "        vertical-align: top;\n",
       "    }\n",
       "\n",
       "    .dataframe thead th {\n",
       "        text-align: right;\n",
       "    }\n",
       "</style>\n",
       "<table border=\"1\" class=\"dataframe\">\n",
       "  <thead>\n",
       "    <tr style=\"text-align: right;\">\n",
       "      <th></th>\n",
       "      <th>country</th>\n",
       "      <th>country_long</th>\n",
       "      <th>name</th>\n",
       "      <th>gppd_idnr</th>\n",
       "      <th>capacity_mw</th>\n",
       "      <th>latitude</th>\n",
       "      <th>longitude</th>\n",
       "      <th>fuel1</th>\n",
       "      <th>fuel2</th>\n",
       "      <th>fuel3</th>\n",
       "      <th>...</th>\n",
       "      <th>owner</th>\n",
       "      <th>source</th>\n",
       "      <th>url</th>\n",
       "      <th>geolocation_source</th>\n",
       "      <th>year_of_capacity_data</th>\n",
       "      <th>generation_gwh_2013</th>\n",
       "      <th>generation_gwh_2014</th>\n",
       "      <th>generation_gwh_2015</th>\n",
       "      <th>generation_gwh_2016</th>\n",
       "      <th>estimated_generation_gwh</th>\n",
       "    </tr>\n",
       "  </thead>\n",
       "  <tbody>\n",
       "    <tr>\n",
       "      <th>0</th>\n",
       "      <td>AFG</td>\n",
       "      <td>Afghanistan</td>\n",
       "      <td>Kajaki Hydroelectric Power Plant Afghanistan</td>\n",
       "      <td>GEODB0040538</td>\n",
       "      <td>33.00</td>\n",
       "      <td>32.3220</td>\n",
       "      <td>65.1190</td>\n",
       "      <td>Hydro</td>\n",
       "      <td>NaN</td>\n",
       "      <td>NaN</td>\n",
       "      <td>...</td>\n",
       "      <td>NaN</td>\n",
       "      <td>GEODB</td>\n",
       "      <td>http://globalenergyobservatory.org</td>\n",
       "      <td>GEODB</td>\n",
       "      <td>2017.0</td>\n",
       "      <td>NaN</td>\n",
       "      <td>NaN</td>\n",
       "      <td>NaN</td>\n",
       "      <td>NaN</td>\n",
       "      <td>NaN</td>\n",
       "    </tr>\n",
       "    <tr>\n",
       "      <th>1</th>\n",
       "      <td>AFG</td>\n",
       "      <td>Afghanistan</td>\n",
       "      <td>Mahipar Hydroelectric Power Plant Afghanistan</td>\n",
       "      <td>GEODB0040541</td>\n",
       "      <td>66.00</td>\n",
       "      <td>34.5560</td>\n",
       "      <td>69.4787</td>\n",
       "      <td>Hydro</td>\n",
       "      <td>NaN</td>\n",
       "      <td>NaN</td>\n",
       "      <td>...</td>\n",
       "      <td>NaN</td>\n",
       "      <td>GEODB</td>\n",
       "      <td>http://globalenergyobservatory.org</td>\n",
       "      <td>GEODB</td>\n",
       "      <td>2017.0</td>\n",
       "      <td>NaN</td>\n",
       "      <td>NaN</td>\n",
       "      <td>NaN</td>\n",
       "      <td>NaN</td>\n",
       "      <td>NaN</td>\n",
       "    </tr>\n",
       "    <tr>\n",
       "      <th>2</th>\n",
       "      <td>AFG</td>\n",
       "      <td>Afghanistan</td>\n",
       "      <td>Naghlu Dam Hydroelectric Power Plant Afghanistan</td>\n",
       "      <td>GEODB0040534</td>\n",
       "      <td>100.00</td>\n",
       "      <td>34.6410</td>\n",
       "      <td>69.7170</td>\n",
       "      <td>Hydro</td>\n",
       "      <td>NaN</td>\n",
       "      <td>NaN</td>\n",
       "      <td>...</td>\n",
       "      <td>NaN</td>\n",
       "      <td>GEODB</td>\n",
       "      <td>http://globalenergyobservatory.org</td>\n",
       "      <td>GEODB</td>\n",
       "      <td>2017.0</td>\n",
       "      <td>NaN</td>\n",
       "      <td>NaN</td>\n",
       "      <td>NaN</td>\n",
       "      <td>NaN</td>\n",
       "      <td>NaN</td>\n",
       "    </tr>\n",
       "    <tr>\n",
       "      <th>3</th>\n",
       "      <td>AFG</td>\n",
       "      <td>Afghanistan</td>\n",
       "      <td>Nangarhar (Darunta) Hydroelectric Power Plant ...</td>\n",
       "      <td>GEODB0040536</td>\n",
       "      <td>11.55</td>\n",
       "      <td>34.4847</td>\n",
       "      <td>70.3633</td>\n",
       "      <td>Hydro</td>\n",
       "      <td>NaN</td>\n",
       "      <td>NaN</td>\n",
       "      <td>...</td>\n",
       "      <td>NaN</td>\n",
       "      <td>GEODB</td>\n",
       "      <td>http://globalenergyobservatory.org</td>\n",
       "      <td>GEODB</td>\n",
       "      <td>2017.0</td>\n",
       "      <td>NaN</td>\n",
       "      <td>NaN</td>\n",
       "      <td>NaN</td>\n",
       "      <td>NaN</td>\n",
       "      <td>NaN</td>\n",
       "    </tr>\n",
       "    <tr>\n",
       "      <th>4</th>\n",
       "      <td>AFG</td>\n",
       "      <td>Afghanistan</td>\n",
       "      <td>Northwest Kabul Power Plant Afghanistan</td>\n",
       "      <td>GEODB0040540</td>\n",
       "      <td>42.00</td>\n",
       "      <td>34.5638</td>\n",
       "      <td>69.1134</td>\n",
       "      <td>Gas</td>\n",
       "      <td>NaN</td>\n",
       "      <td>NaN</td>\n",
       "      <td>...</td>\n",
       "      <td>NaN</td>\n",
       "      <td>GEODB</td>\n",
       "      <td>http://globalenergyobservatory.org</td>\n",
       "      <td>GEODB</td>\n",
       "      <td>2017.0</td>\n",
       "      <td>NaN</td>\n",
       "      <td>NaN</td>\n",
       "      <td>NaN</td>\n",
       "      <td>NaN</td>\n",
       "      <td>NaN</td>\n",
       "    </tr>\n",
       "  </tbody>\n",
       "</table>\n",
       "<p>5 rows × 22 columns</p>\n",
       "</div>"
      ],
      "text/plain": [
       "  country country_long                                               name  \\\n",
       "0     AFG  Afghanistan       Kajaki Hydroelectric Power Plant Afghanistan   \n",
       "1     AFG  Afghanistan      Mahipar Hydroelectric Power Plant Afghanistan   \n",
       "2     AFG  Afghanistan   Naghlu Dam Hydroelectric Power Plant Afghanistan   \n",
       "3     AFG  Afghanistan  Nangarhar (Darunta) Hydroelectric Power Plant ...   \n",
       "4     AFG  Afghanistan            Northwest Kabul Power Plant Afghanistan   \n",
       "\n",
       "      gppd_idnr  capacity_mw  latitude  longitude  fuel1 fuel2 fuel3  \\\n",
       "0  GEODB0040538        33.00   32.3220    65.1190  Hydro   NaN   NaN   \n",
       "1  GEODB0040541        66.00   34.5560    69.4787  Hydro   NaN   NaN   \n",
       "2  GEODB0040534       100.00   34.6410    69.7170  Hydro   NaN   NaN   \n",
       "3  GEODB0040536        11.55   34.4847    70.3633  Hydro   NaN   NaN   \n",
       "4  GEODB0040540        42.00   34.5638    69.1134    Gas   NaN   NaN   \n",
       "\n",
       "             ...            owner  source                                 url  \\\n",
       "0            ...              NaN   GEODB  http://globalenergyobservatory.org   \n",
       "1            ...              NaN   GEODB  http://globalenergyobservatory.org   \n",
       "2            ...              NaN   GEODB  http://globalenergyobservatory.org   \n",
       "3            ...              NaN   GEODB  http://globalenergyobservatory.org   \n",
       "4            ...              NaN   GEODB  http://globalenergyobservatory.org   \n",
       "\n",
       "  geolocation_source year_of_capacity_data generation_gwh_2013  \\\n",
       "0              GEODB                2017.0                 NaN   \n",
       "1              GEODB                2017.0                 NaN   \n",
       "2              GEODB                2017.0                 NaN   \n",
       "3              GEODB                2017.0                 NaN   \n",
       "4              GEODB                2017.0                 NaN   \n",
       "\n",
       "   generation_gwh_2014  generation_gwh_2015  generation_gwh_2016  \\\n",
       "0                  NaN                  NaN                  NaN   \n",
       "1                  NaN                  NaN                  NaN   \n",
       "2                  NaN                  NaN                  NaN   \n",
       "3                  NaN                  NaN                  NaN   \n",
       "4                  NaN                  NaN                  NaN   \n",
       "\n",
       "   estimated_generation_gwh  \n",
       "0                       NaN  \n",
       "1                       NaN  \n",
       "2                       NaN  \n",
       "3                       NaN  \n",
       "4                       NaN  \n",
       "\n",
       "[5 rows x 22 columns]"
      ]
     },
     "execution_count": 3,
     "metadata": {},
     "output_type": "execute_result"
    }
   ],
   "source": [
    "pp_df = pd.read_csv('global_power_plant_database.csv')\n",
    "pp_df.head()"
   ]
  },
  {
   "cell_type": "code",
   "execution_count": 4,
   "metadata": {},
   "outputs": [
    {
     "data": {
      "text/plain": [
       "273030.131"
      ]
     },
     "execution_count": 4,
     "metadata": {},
     "output_type": "execute_result"
    }
   ],
   "source": [
    "pp_df.query(\"country_long == 'India'\")['capacity_mw'].sum()"
   ]
  },
  {
   "cell_type": "code",
   "execution_count": 5,
   "metadata": {},
   "outputs": [
    {
     "name": "stdout",
     "output_type": "stream",
     "text": [
      "0 country\n",
      "1 country_long\n",
      "2 name\n",
      "3 gppd_idnr\n",
      "4 capacity_mw\n",
      "5 latitude\n",
      "6 longitude\n",
      "7 fuel1\n",
      "8 fuel2\n",
      "9 fuel3\n",
      "10 fuel4\n",
      "11 commissioning_year\n",
      "12 owner\n",
      "13 source\n",
      "14 url\n",
      "15 geolocation_source\n",
      "16 year_of_capacity_data\n",
      "17 generation_gwh_2013\n",
      "18 generation_gwh_2014\n",
      "19 generation_gwh_2015\n",
      "20 generation_gwh_2016\n",
      "21 estimated_generation_gwh\n"
     ]
    }
   ],
   "source": [
    "for index,col in enumerate(pp_df.columns):\n",
    "    print(index,col)"
   ]
  },
  {
   "cell_type": "code",
   "execution_count": 6,
   "metadata": {},
   "outputs": [
    {
     "name": "stdout",
     "output_type": "stream",
     "text": [
      "Total Observation in pp_df (28664, 22)\n"
     ]
    }
   ],
   "source": [
    "print(\"Total Observation in pp_df\",pp_df.shape)"
   ]
  },
  {
   "cell_type": "code",
   "execution_count": 7,
   "metadata": {},
   "outputs": [
    {
     "data": {
      "text/plain": [
       "country                      object\n",
       "country_long                 object\n",
       "name                         object\n",
       "gppd_idnr                    object\n",
       "capacity_mw                 float64\n",
       "latitude                    float64\n",
       "longitude                   float64\n",
       "fuel1                        object\n",
       "fuel2                        object\n",
       "fuel3                        object\n",
       "fuel4                        object\n",
       "commissioning_year          float64\n",
       "owner                        object\n",
       "source                       object\n",
       "url                          object\n",
       "geolocation_source           object\n",
       "year_of_capacity_data       float64\n",
       "generation_gwh_2013         float64\n",
       "generation_gwh_2014         float64\n",
       "generation_gwh_2015         float64\n",
       "generation_gwh_2016         float64\n",
       "estimated_generation_gwh    float64\n",
       "dtype: object"
      ]
     },
     "execution_count": 7,
     "metadata": {},
     "output_type": "execute_result"
    }
   ],
   "source": [
    "pp_df.dtypes"
   ]
  },
  {
   "cell_type": "code",
   "execution_count": 8,
   "metadata": {},
   "outputs": [
    {
     "data": {
      "text/html": [
       "<div>\n",
       "<style scoped>\n",
       "    .dataframe tbody tr th:only-of-type {\n",
       "        vertical-align: middle;\n",
       "    }\n",
       "\n",
       "    .dataframe tbody tr th {\n",
       "        vertical-align: top;\n",
       "    }\n",
       "\n",
       "    .dataframe thead th {\n",
       "        text-align: right;\n",
       "    }\n",
       "</style>\n",
       "<table border=\"1\" class=\"dataframe\">\n",
       "  <thead>\n",
       "    <tr style=\"text-align: right;\">\n",
       "      <th></th>\n",
       "      <th>total</th>\n",
       "      <th>percent</th>\n",
       "    </tr>\n",
       "  </thead>\n",
       "  <tbody>\n",
       "    <tr>\n",
       "      <th>fuel4</th>\n",
       "      <td>28556</td>\n",
       "      <td>0.996232</td>\n",
       "    </tr>\n",
       "    <tr>\n",
       "      <th>fuel3</th>\n",
       "      <td>28368</td>\n",
       "      <td>0.989673</td>\n",
       "    </tr>\n",
       "    <tr>\n",
       "      <th>generation_gwh_2013</th>\n",
       "      <td>28225</td>\n",
       "      <td>0.984685</td>\n",
       "    </tr>\n",
       "    <tr>\n",
       "      <th>generation_gwh_2014</th>\n",
       "      <td>28209</td>\n",
       "      <td>0.984126</td>\n",
       "    </tr>\n",
       "    <tr>\n",
       "      <th>generation_gwh_2015</th>\n",
       "      <td>27706</td>\n",
       "      <td>0.966578</td>\n",
       "    </tr>\n",
       "    <tr>\n",
       "      <th>fuel2</th>\n",
       "      <td>26959</td>\n",
       "      <td>0.940518</td>\n",
       "    </tr>\n",
       "    <tr>\n",
       "      <th>generation_gwh_2016</th>\n",
       "      <td>20338</td>\n",
       "      <td>0.709531</td>\n",
       "    </tr>\n",
       "    <tr>\n",
       "      <th>commissioning_year</th>\n",
       "      <td>13712</td>\n",
       "      <td>0.478370</td>\n",
       "    </tr>\n",
       "    <tr>\n",
       "      <th>year_of_capacity_data</th>\n",
       "      <td>12519</td>\n",
       "      <td>0.436750</td>\n",
       "    </tr>\n",
       "    <tr>\n",
       "      <th>owner</th>\n",
       "      <td>10571</td>\n",
       "      <td>0.368790</td>\n",
       "    </tr>\n",
       "    <tr>\n",
       "      <th>estimated_generation_gwh</th>\n",
       "      <td>1128</td>\n",
       "      <td>0.039352</td>\n",
       "    </tr>\n",
       "    <tr>\n",
       "      <th>geolocation_source</th>\n",
       "      <td>421</td>\n",
       "      <td>0.014687</td>\n",
       "    </tr>\n",
       "    <tr>\n",
       "      <th>name</th>\n",
       "      <td>20</td>\n",
       "      <td>0.000698</td>\n",
       "    </tr>\n",
       "    <tr>\n",
       "      <th>fuel1</th>\n",
       "      <td>3</td>\n",
       "      <td>0.000105</td>\n",
       "    </tr>\n",
       "    <tr>\n",
       "      <th>source</th>\n",
       "      <td>0</td>\n",
       "      <td>0.000000</td>\n",
       "    </tr>\n",
       "    <tr>\n",
       "      <th>url</th>\n",
       "      <td>0</td>\n",
       "      <td>0.000000</td>\n",
       "    </tr>\n",
       "    <tr>\n",
       "      <th>longitude</th>\n",
       "      <td>0</td>\n",
       "      <td>0.000000</td>\n",
       "    </tr>\n",
       "    <tr>\n",
       "      <th>latitude</th>\n",
       "      <td>0</td>\n",
       "      <td>0.000000</td>\n",
       "    </tr>\n",
       "    <tr>\n",
       "      <th>capacity_mw</th>\n",
       "      <td>0</td>\n",
       "      <td>0.000000</td>\n",
       "    </tr>\n",
       "    <tr>\n",
       "      <th>gppd_idnr</th>\n",
       "      <td>0</td>\n",
       "      <td>0.000000</td>\n",
       "    </tr>\n",
       "    <tr>\n",
       "      <th>country_long</th>\n",
       "      <td>0</td>\n",
       "      <td>0.000000</td>\n",
       "    </tr>\n",
       "    <tr>\n",
       "      <th>country</th>\n",
       "      <td>0</td>\n",
       "      <td>0.000000</td>\n",
       "    </tr>\n",
       "  </tbody>\n",
       "</table>\n",
       "</div>"
      ],
      "text/plain": [
       "                          total   percent\n",
       "fuel4                     28556  0.996232\n",
       "fuel3                     28368  0.989673\n",
       "generation_gwh_2013       28225  0.984685\n",
       "generation_gwh_2014       28209  0.984126\n",
       "generation_gwh_2015       27706  0.966578\n",
       "fuel2                     26959  0.940518\n",
       "generation_gwh_2016       20338  0.709531\n",
       "commissioning_year        13712  0.478370\n",
       "year_of_capacity_data     12519  0.436750\n",
       "owner                     10571  0.368790\n",
       "estimated_generation_gwh   1128  0.039352\n",
       "geolocation_source          421  0.014687\n",
       "name                         20  0.000698\n",
       "fuel1                         3  0.000105\n",
       "source                        0  0.000000\n",
       "url                           0  0.000000\n",
       "longitude                     0  0.000000\n",
       "latitude                      0  0.000000\n",
       "capacity_mw                   0  0.000000\n",
       "gppd_idnr                     0  0.000000\n",
       "country_long                  0  0.000000\n",
       "country                       0  0.000000"
      ]
     },
     "execution_count": 8,
     "metadata": {},
     "output_type": "execute_result"
    }
   ],
   "source": [
    "total = pp_df.isnull().sum().sort_values(ascending = False)\n",
    "percent = (pp_df.isnull().sum() / pp_df.shape[0]).sort_values(ascending = False)\n",
    "pd.concat([total,percent],axis = 1,keys = ['total','percent'])"
   ]
  },
  {
   "cell_type": "code",
   "execution_count": 9,
   "metadata": {},
   "outputs": [
    {
     "data": {
      "text/plain": [
       "country_long\n",
       "Afghanistan                 0.000000e+00\n",
       "Albania                     0.000000e+00\n",
       "Algeria                     0.000000e+00\n",
       "Angola                      0.000000e+00\n",
       "Antarctica                  0.000000e+00\n",
       "Argentina                   0.000000e+00\n",
       "Armenia                     0.000000e+00\n",
       "Australia                   0.000000e+00\n",
       "Austria                     2.473210e+02\n",
       "Azerbaijan                  0.000000e+00\n",
       "Bahrain                     0.000000e+00\n",
       "Bangladesh                  0.000000e+00\n",
       "Belarus                     0.000000e+00\n",
       "Belgium                     0.000000e+00\n",
       "Benin                       0.000000e+00\n",
       "Bhutan                      0.000000e+00\n",
       "Bolivia                     0.000000e+00\n",
       "Bosnia and Herzegovina      0.000000e+00\n",
       "Botswana                    0.000000e+00\n",
       "Brazil                      0.000000e+00\n",
       "Brunei Darussalam           0.000000e+00\n",
       "Bulgaria                    0.000000e+00\n",
       "Burkina Faso                0.000000e+00\n",
       "Burundi                     0.000000e+00\n",
       "Cambodia                    0.000000e+00\n",
       "Cameroon                    0.000000e+00\n",
       "Canada                      0.000000e+00\n",
       "Cape Verde                  0.000000e+00\n",
       "Central African Republic    0.000000e+00\n",
       "Chile                       0.000000e+00\n",
       "                                ...     \n",
       "South Korea                 0.000000e+00\n",
       "Spain                       0.000000e+00\n",
       "Sri Lanka                   0.000000e+00\n",
       "Sudan                       0.000000e+00\n",
       "Swaziland                   0.000000e+00\n",
       "Sweden                      0.000000e+00\n",
       "Switzerland                 0.000000e+00\n",
       "Syrian Arab Republic        0.000000e+00\n",
       "Taiwan                      0.000000e+00\n",
       "Tajikistan                  0.000000e+00\n",
       "Tanzania                    0.000000e+00\n",
       "Thailand                    0.000000e+00\n",
       "Togo                        0.000000e+00\n",
       "Trinidad and Tobago         0.000000e+00\n",
       "Tunisia                     0.000000e+00\n",
       "Turkey                      0.000000e+00\n",
       "Turkmenistan                0.000000e+00\n",
       "Uganda                      0.000000e+00\n",
       "Ukraine                     0.000000e+00\n",
       "United Arab Emirates        0.000000e+00\n",
       "United Kingdom              0.000000e+00\n",
       "United States of America    4.066391e+06\n",
       "Uruguay                     0.000000e+00\n",
       "Uzbekistan                  0.000000e+00\n",
       "Venezuela                   0.000000e+00\n",
       "Vietnam                     6.677512e+04\n",
       "Western Sahara              0.000000e+00\n",
       "Yemen                       0.000000e+00\n",
       "Zambia                      0.000000e+00\n",
       "Zimbabwe                    0.000000e+00\n",
       "Name: generation_gwh_2016, Length: 164, dtype: float64"
      ]
     },
     "execution_count": 9,
     "metadata": {},
     "output_type": "execute_result"
    }
   ],
   "source": [
    "pp_df.groupby('country_long').sum()['generation_gwh_2016']"
   ]
  },
  {
   "cell_type": "code",
   "execution_count": 10,
   "metadata": {},
   "outputs": [
    {
     "data": {
      "text/plain": [
       "generation_gwh_2013    28225\n",
       "generation_gwh_2014    28209\n",
       "generation_gwh_2015    27706\n",
       "generation_gwh_2016    20338\n",
       "dtype: int64"
      ]
     },
     "execution_count": 10,
     "metadata": {},
     "output_type": "execute_result"
    }
   ],
   "source": [
    "pp_df.loc[:,['generation_gwh_2013','generation_gwh_2014','generation_gwh_2015','generation_gwh_2016']].isnull().sum()"
   ]
  },
  {
   "cell_type": "code",
   "execution_count": 11,
   "metadata": {},
   "outputs": [
    {
     "data": {
      "text/html": [
       "<div>\n",
       "<style scoped>\n",
       "    .dataframe tbody tr th:only-of-type {\n",
       "        vertical-align: middle;\n",
       "    }\n",
       "\n",
       "    .dataframe tbody tr th {\n",
       "        vertical-align: top;\n",
       "    }\n",
       "\n",
       "    .dataframe thead th {\n",
       "        text-align: right;\n",
       "    }\n",
       "</style>\n",
       "<table border=\"1\" class=\"dataframe\">\n",
       "  <thead>\n",
       "    <tr style=\"text-align: right;\">\n",
       "      <th></th>\n",
       "      <th>capacity_mw</th>\n",
       "      <th>latitude</th>\n",
       "      <th>longitude</th>\n",
       "      <th>commissioning_year</th>\n",
       "      <th>year_of_capacity_data</th>\n",
       "      <th>generation_gwh_2013</th>\n",
       "      <th>generation_gwh_2014</th>\n",
       "      <th>generation_gwh_2015</th>\n",
       "      <th>generation_gwh_2016</th>\n",
       "      <th>estimated_generation_gwh</th>\n",
       "    </tr>\n",
       "  </thead>\n",
       "  <tbody>\n",
       "    <tr>\n",
       "      <th>count</th>\n",
       "      <td>28664.000000</td>\n",
       "      <td>28664.000000</td>\n",
       "      <td>2.866400e+04</td>\n",
       "      <td>14952.000000</td>\n",
       "      <td>16145.000000</td>\n",
       "      <td>439.000000</td>\n",
       "      <td>455.000000</td>\n",
       "      <td>958.000000</td>\n",
       "      <td>8326.000000</td>\n",
       "      <td>27536.000000</td>\n",
       "    </tr>\n",
       "    <tr>\n",
       "      <th>mean</th>\n",
       "      <td>186.097600</td>\n",
       "      <td>68.817502</td>\n",
       "      <td>9.925621e+01</td>\n",
       "      <td>1994.698521</td>\n",
       "      <td>2016.035367</td>\n",
       "      <td>2339.270238</td>\n",
       "      <td>2622.049124</td>\n",
       "      <td>1859.660249</td>\n",
       "      <td>532.668481</td>\n",
       "      <td>807.796919</td>\n",
       "    </tr>\n",
       "    <tr>\n",
       "      <th>std</th>\n",
       "      <td>523.027253</td>\n",
       "      <td>3610.172087</td>\n",
       "      <td>1.092781e+04</td>\n",
       "      <td>23.406231</td>\n",
       "      <td>1.258145</td>\n",
       "      <td>4384.011370</td>\n",
       "      <td>4138.194312</td>\n",
       "      <td>3965.618811</td>\n",
       "      <td>1935.490760</td>\n",
       "      <td>2687.873796</td>\n",
       "    </tr>\n",
       "    <tr>\n",
       "      <th>min</th>\n",
       "      <td>1.000000</td>\n",
       "      <td>-77.847000</td>\n",
       "      <td>-1.799777e+02</td>\n",
       "      <td>1896.000000</td>\n",
       "      <td>2000.000000</td>\n",
       "      <td>0.000000</td>\n",
       "      <td>0.000000</td>\n",
       "      <td>0.000000</td>\n",
       "      <td>-768.620000</td>\n",
       "      <td>0.000000</td>\n",
       "    </tr>\n",
       "    <tr>\n",
       "      <th>25%</th>\n",
       "      <td>4.795850</td>\n",
       "      <td>28.010225</td>\n",
       "      <td>-7.905748e+01</td>\n",
       "      <td>1985.000000</td>\n",
       "      <td>2016.000000</td>\n",
       "      <td>226.735625</td>\n",
       "      <td>253.466300</td>\n",
       "      <td>57.898941</td>\n",
       "      <td>3.197500</td>\n",
       "      <td>8.099628</td>\n",
       "    </tr>\n",
       "    <tr>\n",
       "      <th>50%</th>\n",
       "      <td>18.640000</td>\n",
       "      <td>39.950000</td>\n",
       "      <td>-3.928400e+00</td>\n",
       "      <td>2004.000000</td>\n",
       "      <td>2016.000000</td>\n",
       "      <td>731.334950</td>\n",
       "      <td>1015.676100</td>\n",
       "      <td>468.989500</td>\n",
       "      <td>20.354000</td>\n",
       "      <td>44.796959</td>\n",
       "    </tr>\n",
       "    <tr>\n",
       "      <th>75%</th>\n",
       "      <td>99.200000</td>\n",
       "      <td>46.980275</td>\n",
       "      <td>2.100702e+01</td>\n",
       "      <td>2012.000000</td>\n",
       "      <td>2016.000000</td>\n",
       "      <td>2636.217675</td>\n",
       "      <td>3170.871000</td>\n",
       "      <td>2152.211500</td>\n",
       "      <td>176.508999</td>\n",
       "      <td>293.907237</td>\n",
       "    </tr>\n",
       "    <tr>\n",
       "      <th>max</th>\n",
       "      <td>22500.000000</td>\n",
       "      <td>415750.000000</td>\n",
       "      <td>1.075744e+06</td>\n",
       "      <td>2018.000000</td>\n",
       "      <td>2018.000000</td>\n",
       "      <td>50834.000000</td>\n",
       "      <td>28127.000000</td>\n",
       "      <td>59546.865000</td>\n",
       "      <td>32377.477000</td>\n",
       "      <td>92268.763466</td>\n",
       "    </tr>\n",
       "  </tbody>\n",
       "</table>\n",
       "</div>"
      ],
      "text/plain": [
       "        capacity_mw       latitude     longitude  commissioning_year  \\\n",
       "count  28664.000000   28664.000000  2.866400e+04        14952.000000   \n",
       "mean     186.097600      68.817502  9.925621e+01         1994.698521   \n",
       "std      523.027253    3610.172087  1.092781e+04           23.406231   \n",
       "min        1.000000     -77.847000 -1.799777e+02         1896.000000   \n",
       "25%        4.795850      28.010225 -7.905748e+01         1985.000000   \n",
       "50%       18.640000      39.950000 -3.928400e+00         2004.000000   \n",
       "75%       99.200000      46.980275  2.100702e+01         2012.000000   \n",
       "max    22500.000000  415750.000000  1.075744e+06         2018.000000   \n",
       "\n",
       "       year_of_capacity_data  generation_gwh_2013  generation_gwh_2014  \\\n",
       "count           16145.000000           439.000000           455.000000   \n",
       "mean             2016.035367          2339.270238          2622.049124   \n",
       "std                 1.258145          4384.011370          4138.194312   \n",
       "min              2000.000000             0.000000             0.000000   \n",
       "25%              2016.000000           226.735625           253.466300   \n",
       "50%              2016.000000           731.334950          1015.676100   \n",
       "75%              2016.000000          2636.217675          3170.871000   \n",
       "max              2018.000000         50834.000000         28127.000000   \n",
       "\n",
       "       generation_gwh_2015  generation_gwh_2016  estimated_generation_gwh  \n",
       "count           958.000000          8326.000000              27536.000000  \n",
       "mean           1859.660249           532.668481                807.796919  \n",
       "std            3965.618811          1935.490760               2687.873796  \n",
       "min               0.000000          -768.620000                  0.000000  \n",
       "25%              57.898941             3.197500                  8.099628  \n",
       "50%             468.989500            20.354000                 44.796959  \n",
       "75%            2152.211500           176.508999                293.907237  \n",
       "max           59546.865000         32377.477000              92268.763466  "
      ]
     },
     "execution_count": 11,
     "metadata": {},
     "output_type": "execute_result"
    }
   ],
   "source": [
    "pp_df.describe()"
   ]
  },
  {
   "cell_type": "markdown",
   "metadata": {},
   "source": [
    "## `Quality`\n",
    "\n",
    "1. country column has abbreviated names of countries.\n",
    "2. fuel2, fuel3 ,fuel4 has null values more than 90%.\n",
    "\n",
    "## `Tidiness`\n",
    "\n",
    "1. melt columns generation_gwh_2013,generation_gwh_2014,generation_gwh_2015,generation_gwh_2016\n",
    "."
   ]
  },
  {
   "cell_type": "code",
   "execution_count": 12,
   "metadata": {},
   "outputs": [],
   "source": [
    "pp_df_copy = pp_df.copy()"
   ]
  },
  {
   "cell_type": "markdown",
   "metadata": {},
   "source": [
    "## `Define`"
   ]
  },
  {
   "cell_type": "markdown",
   "metadata": {},
   "source": [
    "- melt columns generation_gwh_2013, generation_gwh_2014, generation_gwh_2015, generation_gwh_2016."
   ]
  },
  {
   "cell_type": "markdown",
   "metadata": {},
   "source": [
    "## Code"
   ]
  },
  {
   "cell_type": "code",
   "execution_count": 13,
   "metadata": {},
   "outputs": [
    {
     "data": {
      "text/plain": [
       "Index(['country', 'country_long', 'name', 'gppd_idnr', 'capacity_mw',\n",
       "       'latitude', 'longitude', 'fuel1', 'fuel2', 'fuel3', 'fuel4',\n",
       "       'commissioning_year', 'owner', 'source', 'url', 'geolocation_source',\n",
       "       'year_of_capacity_data', 'generation_gwh_2013', 'generation_gwh_2014',\n",
       "       'generation_gwh_2015', 'generation_gwh_2016',\n",
       "       'estimated_generation_gwh'],\n",
       "      dtype='object')"
      ]
     },
     "execution_count": 13,
     "metadata": {},
     "output_type": "execute_result"
    }
   ],
   "source": [
    "pp_df_copy.columns"
   ]
  },
  {
   "cell_type": "code",
   "execution_count": 14,
   "metadata": {},
   "outputs": [],
   "source": [
    "col_list  = ['country','country_long','name', 'gppd_idnr', 'capacity_mw',\n",
    "       'latitude', 'longitude', 'fuel1', 'fuel2', 'fuel3', 'fuel4',\n",
    "       'commissioning_year', 'owner', 'source', 'url', 'geolocation_source',\n",
    "       'year_of_capacity_data','estimated_generation_gwh']"
   ]
  },
  {
   "cell_type": "code",
   "execution_count": 15,
   "metadata": {},
   "outputs": [],
   "source": [
    "pp_df_copy = pd.melt(pp_df_copy,id_vars = col_list,value_vars = ['generation_gwh_2013','generation_gwh_2014','generation_gwh_2015','generation_gwh_2016'],\n",
    "                   var_name = 'generation_year',value_name = 'generation_gwh')"
   ]
  },
  {
   "cell_type": "markdown",
   "metadata": {},
   "source": [
    "## Test"
   ]
  },
  {
   "cell_type": "code",
   "execution_count": 16,
   "metadata": {},
   "outputs": [
    {
     "data": {
      "text/html": [
       "<div>\n",
       "<style scoped>\n",
       "    .dataframe tbody tr th:only-of-type {\n",
       "        vertical-align: middle;\n",
       "    }\n",
       "\n",
       "    .dataframe tbody tr th {\n",
       "        vertical-align: top;\n",
       "    }\n",
       "\n",
       "    .dataframe thead th {\n",
       "        text-align: right;\n",
       "    }\n",
       "</style>\n",
       "<table border=\"1\" class=\"dataframe\">\n",
       "  <thead>\n",
       "    <tr style=\"text-align: right;\">\n",
       "      <th></th>\n",
       "      <th>generation_year</th>\n",
       "      <th>generation_gwh</th>\n",
       "    </tr>\n",
       "  </thead>\n",
       "  <tbody>\n",
       "    <tr>\n",
       "      <th>95785</th>\n",
       "      <td>generation_gwh_2016</td>\n",
       "      <td>NaN</td>\n",
       "    </tr>\n",
       "    <tr>\n",
       "      <th>77864</th>\n",
       "      <td>generation_gwh_2015</td>\n",
       "      <td>NaN</td>\n",
       "    </tr>\n",
       "    <tr>\n",
       "      <th>18279</th>\n",
       "      <td>generation_gwh_2013</td>\n",
       "      <td>NaN</td>\n",
       "    </tr>\n",
       "    <tr>\n",
       "      <th>53069</th>\n",
       "      <td>generation_gwh_2014</td>\n",
       "      <td>NaN</td>\n",
       "    </tr>\n",
       "    <tr>\n",
       "      <th>29065</th>\n",
       "      <td>generation_gwh_2014</td>\n",
       "      <td>NaN</td>\n",
       "    </tr>\n",
       "  </tbody>\n",
       "</table>\n",
       "</div>"
      ],
      "text/plain": [
       "           generation_year  generation_gwh\n",
       "95785  generation_gwh_2016             NaN\n",
       "77864  generation_gwh_2015             NaN\n",
       "18279  generation_gwh_2013             NaN\n",
       "53069  generation_gwh_2014             NaN\n",
       "29065  generation_gwh_2014             NaN"
      ]
     },
     "execution_count": 16,
     "metadata": {},
     "output_type": "execute_result"
    }
   ],
   "source": [
    "pp_df_copy.loc[:,['generation_year','generation_gwh']].sample(5)"
   ]
  },
  {
   "cell_type": "markdown",
   "metadata": {},
   "source": [
    "## `Define`\n",
    "\n",
    "- country column has abbreviated names of countries.\n",
    "- fuel2 ,fuel3, fuel4 has null values greater than 90%.A thumb rule of keeping "
   ]
  },
  {
   "cell_type": "markdown",
   "metadata": {},
   "source": [
    "## `Code`"
   ]
  },
  {
   "cell_type": "code",
   "execution_count": 17,
   "metadata": {},
   "outputs": [],
   "source": [
    "pp_df_copy.drop(labels = ['country','fuel2','fuel3','fuel4'],axis = 1,inplace = True)"
   ]
  },
  {
   "cell_type": "markdown",
   "metadata": {},
   "source": [
    "## `Test`"
   ]
  },
  {
   "cell_type": "code",
   "execution_count": 18,
   "metadata": {},
   "outputs": [
    {
     "data": {
      "text/plain": [
       "Index(['country_long', 'name', 'gppd_idnr', 'capacity_mw', 'latitude',\n",
       "       'longitude', 'fuel1', 'commissioning_year', 'owner', 'source', 'url',\n",
       "       'geolocation_source', 'year_of_capacity_data',\n",
       "       'estimated_generation_gwh', 'generation_year', 'generation_gwh'],\n",
       "      dtype='object')"
      ]
     },
     "execution_count": 18,
     "metadata": {},
     "output_type": "execute_result"
    }
   ],
   "source": [
    "pp_df_copy.columns"
   ]
  },
  {
   "cell_type": "markdown",
   "metadata": {},
   "source": [
    "## `Define`\n",
    "- After melting I created generation_year column which actually has a text with a year.\n",
    "- Split the text on '-' and get a year from it."
   ]
  },
  {
   "cell_type": "markdown",
   "metadata": {},
   "source": [
    "## `Code`"
   ]
  },
  {
   "cell_type": "code",
   "execution_count": 19,
   "metadata": {},
   "outputs": [],
   "source": [
    "pp_df_copy['generation_year'] = pp_df_copy['generation_year'].apply(lambda x: x.split('_')[-1]).astype('int')"
   ]
  },
  {
   "cell_type": "markdown",
   "metadata": {},
   "source": [
    "## `Test`"
   ]
  },
  {
   "cell_type": "code",
   "execution_count": 20,
   "metadata": {},
   "outputs": [
    {
     "data": {
      "text/plain": [
       "100040    2016\n",
       "28712     2014\n",
       "27190     2013\n",
       "75093     2015\n",
       "84046     2015\n",
       "47569     2014\n",
       "27627     2013\n",
       "84095     2015\n",
       "15963     2013\n",
       "653       2013\n",
       "Name: generation_year, dtype: int32"
      ]
     },
     "execution_count": 20,
     "metadata": {},
     "output_type": "execute_result"
    }
   ],
   "source": [
    "pp_df_copy['generation_year'].sample(10)"
   ]
  },
  {
   "cell_type": "code",
   "execution_count": 21,
   "metadata": {},
   "outputs": [
    {
     "data": {
      "text/plain": [
       "0.9112301144292493"
      ]
     },
     "execution_count": 21,
     "metadata": {},
     "output_type": "execute_result"
    }
   ],
   "source": [
    "pp_df_copy['generation_gwh'].isnull().sum() / pp_df_copy.shape[0]"
   ]
  },
  {
   "cell_type": "markdown",
   "metadata": {},
   "source": [
    "## `Define`"
   ]
  },
  {
   "cell_type": "markdown",
   "metadata": {},
   "source": [
    "- generation_gwh has 91% null values.\n",
    "- drop null values using dropna"
   ]
  },
  {
   "cell_type": "markdown",
   "metadata": {},
   "source": [
    "## `Code`"
   ]
  },
  {
   "cell_type": "code",
   "execution_count": 27,
   "metadata": {},
   "outputs": [],
   "source": [
    "pp_df_copy.dropna(subset = ['generation_gwh'],inplace = True)"
   ]
  },
  {
   "cell_type": "markdown",
   "metadata": {},
   "source": [
    "## `Test`"
   ]
  },
  {
   "cell_type": "code",
   "execution_count": 47,
   "metadata": {},
   "outputs": [
    {
     "data": {
      "text/plain": [
       "0"
      ]
     },
     "execution_count": 47,
     "metadata": {},
     "output_type": "execute_result"
    }
   ],
   "source": [
    "pp_df_copy['generation_gwh'].isnull().sum()"
   ]
  },
  {
   "cell_type": "code",
   "execution_count": 87,
   "metadata": {},
   "outputs": [],
   "source": [
    "pp_df_copy.to_csv('global_power_plant.csv',index = False)"
   ]
  }
 ],
 "metadata": {
  "kernelspec": {
   "display_name": "Python 3",
   "language": "python",
   "name": "python3"
  },
  "language_info": {
   "codemirror_mode": {
    "name": "ipython",
    "version": 3
   },
   "file_extension": ".py",
   "mimetype": "text/x-python",
   "name": "python",
   "nbconvert_exporter": "python",
   "pygments_lexer": "ipython3",
   "version": "3.6.4"
  }
 },
 "nbformat": 4,
 "nbformat_minor": 2
}
